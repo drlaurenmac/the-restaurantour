{
 "cells": [
  {
   "cell_type": "markdown",
   "source": [
    "## The Restaurantour - Neighborhood Demographics\n",
    "\n",
    "Gathering LA demographic data from excel files into df\n",
    "\n",
    "Map boundary info:\n",
    "https://usc.data.socrata.com/dataset/Los-Angeles-Neighborhood-Map/r8qd-yxsr"
   ],
   "metadata": {
    "collapsed": false,
    "pycharm": {
     "name": "#%% md\n"
    }
   }
  },
  {
   "cell_type": "code",
   "execution_count": 1,
   "outputs": [
    {
     "data": {
      "text/plain": "['Above Middle Income Households - 2018.xlsx',\n 'Air Quality Index - 2021.xlsx',\n 'American Indian_Native Population - 2020.xlsx',\n 'Asian Population - 2020.xlsx',\n 'Average Household Size - 2020.xlsx',\n 'Bikes or Walks - 2019.xlsx',\n 'Black Population - 2020.xlsx',\n 'Calls for Service - 2019.xlsx',\n 'Children in Single-Parent Households - 2020.xlsx',\n 'Chronic Absenteeism - 2019.xlsx',\n 'College Enrollment - 2019.xlsx',\n 'College Graduation Rate - 2019.xlsx',\n 'Disability Status - 2020.xlsx',\n 'Divorced_Separated Population - 2020.xlsx',\n 'Existing Tree Canopy Cover - 2016.xlsx',\n 'Extremely Low Income Households - 2018.xlsx',\n 'Families with Children - 2020.xlsx',\n 'Grocery Store Access - 2019.xlsx',\n 'Hispanic Population - 2020.xlsx',\n 'Homeownership Rate - 2019.xlsx',\n 'Immigrant Population - 2020.xlsx',\n 'Jobs in Accommodation and Food Services - 2018.xlsx',\n 'Jobs in Arts, Entertainment & Recreation - 2018.xlsx',\n 'Jobs in Educational Services - 2018.xlsx',\n 'Jobs in Finance & Insurance - 2018.xlsx',\n 'Jobs in Management of Companies & Enterprises - 2018.xlsx',\n 'Jobs in Professional, Scientific & Technical Services - 2018.xlsx',\n 'Jobs in Retail Trade - 2018.xlsx',\n 'Juvenile Arrest Rate - 2019.xlsx',\n 'Labor Force Participation Rate - 2018.xlsx',\n 'Less Than High School - 2019.xlsx',\n 'Low Income Households - 2018.xlsx',\n 'Married Population - 2020.xlsx',\n 'Median Household Income - 2018.xlsx',\n 'Middle Income Households - 2018.xlsx',\n 'Native Hawaiian_Other Pacific Islander Population - 2020.xlsx',\n 'Never-Married Population - 2020.xlsx',\n 'No Vehicle Households - 2019.xlsx',\n 'Other Race Population - 2020.xlsx',\n 'Part I Property Crimes - 2019.xlsx',\n 'Part I Violent Crimes - 2019.xlsx',\n 'Part II Crimes - 2019.xlsx',\n 'Pedestrian Stop Rate - 2019.xlsx',\n 'Pollution Burden Score - 2021.xlsx',\n 'Population Ages 18-24 - 2020.xlsx',\n 'Population Ages 25-34 - 2020.xlsx',\n 'Population Ages 35-44 - 2020.xlsx',\n 'Population Ages 45-54 - 2020.xlsx',\n 'Population Ages 55-64 - 2020.xlsx',\n 'Population Ages 65 & Older - 2020.xlsx',\n 'Population Under Age 18 - 2020.xlsx',\n 'Public Transit - 2019.xlsx',\n 'Rent Burden - 2019.xlsx',\n 'Rent Price - 2019.xlsx',\n 'Renter Rate - 2019.xlsx',\n 'Strong Start Index - 2019.xlsx',\n 'Total Arrest Rate - 2019.xlsx',\n 'Total Homeless Population - 2019.xlsx',\n 'Total Housing Units - 2019.xlsx',\n 'Total Population - 2020.xlsx',\n 'Two or More Races Population - 2020.xlsx',\n 'Unemployment Rate - 2018.xlsx',\n 'Vacant Commercial Properties - 2019.xlsx',\n 'Vacant Residential Properties - 2019.xlsx',\n 'Vehicle Stop Rate - 2019.xlsx',\n 'Very Low Income Households - 2018.xlsx',\n 'Veteran Status - 2020.xlsx',\n 'Water Quality Index - 2021.xlsx',\n 'White Population - 2020.xlsx',\n 'Widowed Population - 2020.xlsx']"
     },
     "execution_count": 1,
     "metadata": {},
     "output_type": "execute_result"
    }
   ],
   "source": [
    "import os\n",
    "\n",
    "# load survey results into df:\n",
    "fpath = 'drlaurenmac/the-restaurantour/data-wrangling/datasets/USC/'\n",
    "\n",
    "dir_list = os.listdir(fpath) #list of all files downloaded from USC website\n",
    "dir_list"
   ],
   "metadata": {
    "collapsed": false,
    "pycharm": {
     "name": "#%%\n"
    }
   }
  },
  {
   "cell_type": "code",
   "execution_count": 2,
   "outputs": [
    {
     "data": {
      "text/plain": "         name Above Middle Income Households  denom_total_pop_2021  \\\n0   Irwindale                            36%                  1711   \n1  Pico-Union                            11%                 40930   \n2    Glendora                            57%                 55094   \n3    Industry                            40%                 22662   \n4      Sylmar                            39%                 80445   \n\n   Air Quality Index American Indian/Native Population Asian Population  \\\n0                 12                                0%               4%   \n1                 12                                0%              11%   \n2                 12                                0%              12%   \n3                 12                                0%              27%   \n4                 11                                0%               6%   \n\n   Average Household Size Bikes or Walks Black Population  Calls for Service  \\\n0                     3.0             4%               0%                NaN   \n1                     3.0             7%               3%              243.0   \n2                     3.0             4%               2%                NaN   \n3                     4.0             2%               2%                NaN   \n4                     4.0             1%               2%              128.0   \n\n   ... Two or More Races Population Unemployment Rate vacant_commercial_count  \\\n0  ...                           0%                9%                    74.0   \n1  ...                           0%                8%                    54.0   \n2  ...                           3%                7%                   133.0   \n3  ...                           1%                6%                   156.0   \n4  ...                           1%                5%                    57.0   \n\n  vacant_residential_count Vehicle Stop Rate Very Low Income Households  \\\n0                      4.0               NaN                        17%   \n1                     82.0             153.0                        25%   \n2                    115.0               NaN                        11%   \n3                     18.0               NaN                        14%   \n4                     75.0              36.0                        14%   \n\n  Veteran Status Water Quality Index White Population Widowed Population  \n0             5%                 714               7%                 7%  \n1             1%                 788               4%                 4%  \n2             6%                 513              47%                 5%  \n3             5%                 713              11%                 5%  \n4             4%                 718              11%                 4%  \n\n[5 rows x 72 columns]",
      "text/html": "<div>\n<style scoped>\n    .dataframe tbody tr th:only-of-type {\n        vertical-align: middle;\n    }\n\n    .dataframe tbody tr th {\n        vertical-align: top;\n    }\n\n    .dataframe thead th {\n        text-align: right;\n    }\n</style>\n<table border=\"1\" class=\"dataframe\">\n  <thead>\n    <tr style=\"text-align: right;\">\n      <th></th>\n      <th>name</th>\n      <th>Above Middle Income Households</th>\n      <th>denom_total_pop_2021</th>\n      <th>Air Quality Index</th>\n      <th>American Indian/Native Population</th>\n      <th>Asian Population</th>\n      <th>Average Household Size</th>\n      <th>Bikes or Walks</th>\n      <th>Black Population</th>\n      <th>Calls for Service</th>\n      <th>...</th>\n      <th>Two or More Races Population</th>\n      <th>Unemployment Rate</th>\n      <th>vacant_commercial_count</th>\n      <th>vacant_residential_count</th>\n      <th>Vehicle Stop Rate</th>\n      <th>Very Low Income Households</th>\n      <th>Veteran Status</th>\n      <th>Water Quality Index</th>\n      <th>White Population</th>\n      <th>Widowed Population</th>\n    </tr>\n  </thead>\n  <tbody>\n    <tr>\n      <th>0</th>\n      <td>Irwindale</td>\n      <td>36%</td>\n      <td>1711</td>\n      <td>12</td>\n      <td>0%</td>\n      <td>4%</td>\n      <td>3.0</td>\n      <td>4%</td>\n      <td>0%</td>\n      <td>NaN</td>\n      <td>...</td>\n      <td>0%</td>\n      <td>9%</td>\n      <td>74.0</td>\n      <td>4.0</td>\n      <td>NaN</td>\n      <td>17%</td>\n      <td>5%</td>\n      <td>714</td>\n      <td>7%</td>\n      <td>7%</td>\n    </tr>\n    <tr>\n      <th>1</th>\n      <td>Pico-Union</td>\n      <td>11%</td>\n      <td>40930</td>\n      <td>12</td>\n      <td>0%</td>\n      <td>11%</td>\n      <td>3.0</td>\n      <td>7%</td>\n      <td>3%</td>\n      <td>243.0</td>\n      <td>...</td>\n      <td>0%</td>\n      <td>8%</td>\n      <td>54.0</td>\n      <td>82.0</td>\n      <td>153.0</td>\n      <td>25%</td>\n      <td>1%</td>\n      <td>788</td>\n      <td>4%</td>\n      <td>4%</td>\n    </tr>\n    <tr>\n      <th>2</th>\n      <td>Glendora</td>\n      <td>57%</td>\n      <td>55094</td>\n      <td>12</td>\n      <td>0%</td>\n      <td>12%</td>\n      <td>3.0</td>\n      <td>4%</td>\n      <td>2%</td>\n      <td>NaN</td>\n      <td>...</td>\n      <td>3%</td>\n      <td>7%</td>\n      <td>133.0</td>\n      <td>115.0</td>\n      <td>NaN</td>\n      <td>11%</td>\n      <td>6%</td>\n      <td>513</td>\n      <td>47%</td>\n      <td>5%</td>\n    </tr>\n    <tr>\n      <th>3</th>\n      <td>Industry</td>\n      <td>40%</td>\n      <td>22662</td>\n      <td>12</td>\n      <td>0%</td>\n      <td>27%</td>\n      <td>4.0</td>\n      <td>2%</td>\n      <td>2%</td>\n      <td>NaN</td>\n      <td>...</td>\n      <td>1%</td>\n      <td>6%</td>\n      <td>156.0</td>\n      <td>18.0</td>\n      <td>NaN</td>\n      <td>14%</td>\n      <td>5%</td>\n      <td>713</td>\n      <td>11%</td>\n      <td>5%</td>\n    </tr>\n    <tr>\n      <th>4</th>\n      <td>Sylmar</td>\n      <td>39%</td>\n      <td>80445</td>\n      <td>11</td>\n      <td>0%</td>\n      <td>6%</td>\n      <td>4.0</td>\n      <td>1%</td>\n      <td>2%</td>\n      <td>128.0</td>\n      <td>...</td>\n      <td>1%</td>\n      <td>5%</td>\n      <td>57.0</td>\n      <td>75.0</td>\n      <td>36.0</td>\n      <td>14%</td>\n      <td>4%</td>\n      <td>718</td>\n      <td>11%</td>\n      <td>4%</td>\n    </tr>\n  </tbody>\n</table>\n<p>5 rows × 72 columns</p>\n</div>"
     },
     "execution_count": 2,
     "metadata": {},
     "output_type": "execute_result"
    }
   ],
   "source": [
    "import pandas as pd\n",
    "\n",
    "for i, file in enumerate(dir_list):\n",
    "    if i == 0:\n",
    "        df_all = pd.read_excel(fpath + file, sheet_name='Sheet1')\n",
    "        df_all = df_all.drop(['year','denom_all_households'],axis=1)\n",
    "    else:\n",
    "        df = pd.read_excel(fpath + file, sheet_name='Sheet1')\n",
    "        #drop the year column (not needed)\n",
    "        df = df.drop('year',axis=1)\n",
    "        #also, unless it is the Air Quality data, drop any column containing \"denom\"\n",
    "        if 'Air Quality' not in file:\n",
    "            cols = df.columns\n",
    "            for col in cols:\n",
    "                if 'denom' in col:\n",
    "                    df = df.drop(col,axis=1)\n",
    "        #merge df based on the name column\n",
    "        df_all = df_all.merge(df, how='outer', on='name')\n",
    "\n",
    "df_all.head()"
   ],
   "metadata": {
    "collapsed": false,
    "pycharm": {
     "name": "#%%\n"
    }
   }
  },
  {
   "cell_type": "code",
   "execution_count": 3,
   "outputs": [
    {
     "data": {
      "text/plain": "         name  Above Middle Income Households  denom_total_pop_2021  \\\n0   Irwindale                            0.36                  1711   \n1  Pico-Union                            0.11                 40930   \n2    Glendora                            0.57                 55094   \n3    Industry                            0.40                 22662   \n4      Sylmar                            0.39                 80445   \n\n   Air Quality Index  American Indian/Native Population  Asian Population  \\\n0                 12                                0.0              0.04   \n1                 12                                0.0              0.11   \n2                 12                                0.0              0.12   \n3                 12                                0.0              0.27   \n4                 11                                0.0              0.06   \n\n   Average Household Size  Bikes or Walks  Black Population  \\\n0                     3.0            0.04              0.00   \n1                     3.0            0.07              0.03   \n2                     3.0            0.04              0.02   \n3                     4.0            0.02              0.02   \n4                     4.0            0.01              0.02   \n\n   Calls for Service  ...  Two or More Races Population  Unemployment Rate  \\\n0                NaN  ...                          0.00               0.09   \n1              243.0  ...                          0.00               0.08   \n2                NaN  ...                          0.03               0.07   \n3                NaN  ...                          0.01               0.06   \n4              128.0  ...                          0.01               0.05   \n\n   vacant_commercial_count  vacant_residential_count  Vehicle Stop Rate  \\\n0                     74.0                       4.0                NaN   \n1                     54.0                      82.0              153.0   \n2                    133.0                     115.0                NaN   \n3                    156.0                      18.0                NaN   \n4                     57.0                      75.0               36.0   \n\n   Very Low Income Households  Veteran Status  Water Quality Index  \\\n0                        0.17            0.05                  714   \n1                        0.25            0.01                  788   \n2                        0.11            0.06                  513   \n3                        0.14            0.05                  713   \n4                        0.14            0.04                  718   \n\n   White Population  Widowed Population  \n0              0.07                0.07  \n1              0.04                0.04  \n2              0.47                0.05  \n3              0.11                0.05  \n4              0.11                0.04  \n\n[5 rows x 72 columns]",
      "text/html": "<div>\n<style scoped>\n    .dataframe tbody tr th:only-of-type {\n        vertical-align: middle;\n    }\n\n    .dataframe tbody tr th {\n        vertical-align: top;\n    }\n\n    .dataframe thead th {\n        text-align: right;\n    }\n</style>\n<table border=\"1\" class=\"dataframe\">\n  <thead>\n    <tr style=\"text-align: right;\">\n      <th></th>\n      <th>name</th>\n      <th>Above Middle Income Households</th>\n      <th>denom_total_pop_2021</th>\n      <th>Air Quality Index</th>\n      <th>American Indian/Native Population</th>\n      <th>Asian Population</th>\n      <th>Average Household Size</th>\n      <th>Bikes or Walks</th>\n      <th>Black Population</th>\n      <th>Calls for Service</th>\n      <th>...</th>\n      <th>Two or More Races Population</th>\n      <th>Unemployment Rate</th>\n      <th>vacant_commercial_count</th>\n      <th>vacant_residential_count</th>\n      <th>Vehicle Stop Rate</th>\n      <th>Very Low Income Households</th>\n      <th>Veteran Status</th>\n      <th>Water Quality Index</th>\n      <th>White Population</th>\n      <th>Widowed Population</th>\n    </tr>\n  </thead>\n  <tbody>\n    <tr>\n      <th>0</th>\n      <td>Irwindale</td>\n      <td>0.36</td>\n      <td>1711</td>\n      <td>12</td>\n      <td>0.0</td>\n      <td>0.04</td>\n      <td>3.0</td>\n      <td>0.04</td>\n      <td>0.00</td>\n      <td>NaN</td>\n      <td>...</td>\n      <td>0.00</td>\n      <td>0.09</td>\n      <td>74.0</td>\n      <td>4.0</td>\n      <td>NaN</td>\n      <td>0.17</td>\n      <td>0.05</td>\n      <td>714</td>\n      <td>0.07</td>\n      <td>0.07</td>\n    </tr>\n    <tr>\n      <th>1</th>\n      <td>Pico-Union</td>\n      <td>0.11</td>\n      <td>40930</td>\n      <td>12</td>\n      <td>0.0</td>\n      <td>0.11</td>\n      <td>3.0</td>\n      <td>0.07</td>\n      <td>0.03</td>\n      <td>243.0</td>\n      <td>...</td>\n      <td>0.00</td>\n      <td>0.08</td>\n      <td>54.0</td>\n      <td>82.0</td>\n      <td>153.0</td>\n      <td>0.25</td>\n      <td>0.01</td>\n      <td>788</td>\n      <td>0.04</td>\n      <td>0.04</td>\n    </tr>\n    <tr>\n      <th>2</th>\n      <td>Glendora</td>\n      <td>0.57</td>\n      <td>55094</td>\n      <td>12</td>\n      <td>0.0</td>\n      <td>0.12</td>\n      <td>3.0</td>\n      <td>0.04</td>\n      <td>0.02</td>\n      <td>NaN</td>\n      <td>...</td>\n      <td>0.03</td>\n      <td>0.07</td>\n      <td>133.0</td>\n      <td>115.0</td>\n      <td>NaN</td>\n      <td>0.11</td>\n      <td>0.06</td>\n      <td>513</td>\n      <td>0.47</td>\n      <td>0.05</td>\n    </tr>\n    <tr>\n      <th>3</th>\n      <td>Industry</td>\n      <td>0.40</td>\n      <td>22662</td>\n      <td>12</td>\n      <td>0.0</td>\n      <td>0.27</td>\n      <td>4.0</td>\n      <td>0.02</td>\n      <td>0.02</td>\n      <td>NaN</td>\n      <td>...</td>\n      <td>0.01</td>\n      <td>0.06</td>\n      <td>156.0</td>\n      <td>18.0</td>\n      <td>NaN</td>\n      <td>0.14</td>\n      <td>0.05</td>\n      <td>713</td>\n      <td>0.11</td>\n      <td>0.05</td>\n    </tr>\n    <tr>\n      <th>4</th>\n      <td>Sylmar</td>\n      <td>0.39</td>\n      <td>80445</td>\n      <td>11</td>\n      <td>0.0</td>\n      <td>0.06</td>\n      <td>4.0</td>\n      <td>0.01</td>\n      <td>0.02</td>\n      <td>128.0</td>\n      <td>...</td>\n      <td>0.01</td>\n      <td>0.05</td>\n      <td>57.0</td>\n      <td>75.0</td>\n      <td>36.0</td>\n      <td>0.14</td>\n      <td>0.04</td>\n      <td>718</td>\n      <td>0.11</td>\n      <td>0.04</td>\n    </tr>\n  </tbody>\n</table>\n<p>5 rows × 72 columns</p>\n</div>"
     },
     "execution_count": 3,
     "metadata": {},
     "output_type": "execute_result"
    }
   ],
   "source": [
    "# convert all percentages into fractions\n",
    "def change_percent(row):\n",
    "    num_str = row.replace('%','')\n",
    "    return float(num_str) / 100\n",
    "\n",
    "for col in df_all.columns:\n",
    "    if type(df_all[col][0]) == str:\n",
    "        if '%' in df_all[col][0]:\n",
    "            df_all[col] = df_all[col].astype(str)\n",
    "            df_all[col] = df_all[col].apply(change_percent)\n",
    "\n",
    "df_all.head()"
   ],
   "metadata": {
    "collapsed": false,
    "pycharm": {
     "name": "#%%\n"
    }
   }
  },
  {
   "cell_type": "code",
   "execution_count": null,
   "outputs": [],
   "source": [
    "# save to a pickle file\n",
    "import pickle\n",
    "fpath = 'drlaurenmac/the-restaurantour/data-wrangling/datasets/'\n",
    "with open(fpath + 'df_demo.pkl','wb') as f:\n",
    "    pickle.dump(df_all, f)"
   ],
   "metadata": {
    "collapsed": false,
    "pycharm": {
     "name": "#%%\n"
    }
   }
  },
  {
   "cell_type": "code",
   "execution_count": 4,
   "outputs": [
    {
     "data": {
      "text/plain": "                                   set             slug  \\\n0  L.A. County Neighborhoods (Current)            acton   \n1  L.A. County Neighborhoods (Current)  adams-normandie   \n2  L.A. County Neighborhoods (Current)     agoura-hills   \n3  L.A. County Neighborhoods (Current)       agua-dulce   \n4  L.A. County Neighborhoods (Current)         alhambra   \n\n                                            the_geom  \\\n0  MULTIPOLYGON (((-118.20261747920541 34.5389897...   \n1  MULTIPOLYGON (((-118.30900800000012 34.0374109...   \n2  MULTIPOLYGON (((-118.76192500000009 34.1682029...   \n3  MULTIPOLYGON (((-118.2546773959221 34.55830403...   \n4  MULTIPOLYGON (((-118.12174700000014 34.1050399...   \n\n                                 kind       external_i             name  \\\n0  L.A. County Neighborhood (Current)            acton            Acton   \n1  L.A. County Neighborhood (Current)  adams-normandie  Adams-Normandie   \n2  L.A. County Neighborhood (Current)     agoura-hills     Agoura Hills   \n3  L.A. County Neighborhood (Current)       agua-dulce       Agua Dulce   \n4  L.A. County Neighborhood (Current)         alhambra         Alhambra   \n\n                                          display_na       sqmi  \\\n0           Acton L.A. County Neighborhood (Current)  39.339109   \n1  Adams-Normandie L.A. County Neighborhood (Curr...   0.805350   \n2    Agoura Hills L.A. County Neighborhood (Current)   8.146760   \n3      Agua Dulce L.A. County Neighborhood (Current)  31.462632   \n4        Alhambra L.A. County Neighborhood (Current)   7.623814   \n\n                  type  name_1  slug_1    latitude  longitude  \\\n0  unincorporated-area     NaN     NaN -118.169810  34.497355   \n1    segment-of-a-city     NaN     NaN -118.300208  34.031461   \n2      standalone-city     NaN     NaN -118.759885  34.146736   \n3  unincorporated-area     NaN     NaN -118.317104  34.504927   \n4      standalone-city     NaN     NaN -118.136512  34.085539   \n\n                                        location  \n0  POINT(34.497355239240846 -118.16981019229348)  \n1  POINT(34.031461499124156 -118.30020800000011)  \n2  POINT(34.146736499122795 -118.75988450000015)  \n3   POINT(34.504926999796837 -118.3171036690717)  \n4  POINT(34.085538999123571 -118.13651200000021)  ",
      "text/html": "<div>\n<style scoped>\n    .dataframe tbody tr th:only-of-type {\n        vertical-align: middle;\n    }\n\n    .dataframe tbody tr th {\n        vertical-align: top;\n    }\n\n    .dataframe thead th {\n        text-align: right;\n    }\n</style>\n<table border=\"1\" class=\"dataframe\">\n  <thead>\n    <tr style=\"text-align: right;\">\n      <th></th>\n      <th>set</th>\n      <th>slug</th>\n      <th>the_geom</th>\n      <th>kind</th>\n      <th>external_i</th>\n      <th>name</th>\n      <th>display_na</th>\n      <th>sqmi</th>\n      <th>type</th>\n      <th>name_1</th>\n      <th>slug_1</th>\n      <th>latitude</th>\n      <th>longitude</th>\n      <th>location</th>\n    </tr>\n  </thead>\n  <tbody>\n    <tr>\n      <th>0</th>\n      <td>L.A. County Neighborhoods (Current)</td>\n      <td>acton</td>\n      <td>MULTIPOLYGON (((-118.20261747920541 34.5389897...</td>\n      <td>L.A. County Neighborhood (Current)</td>\n      <td>acton</td>\n      <td>Acton</td>\n      <td>Acton L.A. County Neighborhood (Current)</td>\n      <td>39.339109</td>\n      <td>unincorporated-area</td>\n      <td>NaN</td>\n      <td>NaN</td>\n      <td>-118.169810</td>\n      <td>34.497355</td>\n      <td>POINT(34.497355239240846 -118.16981019229348)</td>\n    </tr>\n    <tr>\n      <th>1</th>\n      <td>L.A. County Neighborhoods (Current)</td>\n      <td>adams-normandie</td>\n      <td>MULTIPOLYGON (((-118.30900800000012 34.0374109...</td>\n      <td>L.A. County Neighborhood (Current)</td>\n      <td>adams-normandie</td>\n      <td>Adams-Normandie</td>\n      <td>Adams-Normandie L.A. County Neighborhood (Curr...</td>\n      <td>0.805350</td>\n      <td>segment-of-a-city</td>\n      <td>NaN</td>\n      <td>NaN</td>\n      <td>-118.300208</td>\n      <td>34.031461</td>\n      <td>POINT(34.031461499124156 -118.30020800000011)</td>\n    </tr>\n    <tr>\n      <th>2</th>\n      <td>L.A. County Neighborhoods (Current)</td>\n      <td>agoura-hills</td>\n      <td>MULTIPOLYGON (((-118.76192500000009 34.1682029...</td>\n      <td>L.A. County Neighborhood (Current)</td>\n      <td>agoura-hills</td>\n      <td>Agoura Hills</td>\n      <td>Agoura Hills L.A. County Neighborhood (Current)</td>\n      <td>8.146760</td>\n      <td>standalone-city</td>\n      <td>NaN</td>\n      <td>NaN</td>\n      <td>-118.759885</td>\n      <td>34.146736</td>\n      <td>POINT(34.146736499122795 -118.75988450000015)</td>\n    </tr>\n    <tr>\n      <th>3</th>\n      <td>L.A. County Neighborhoods (Current)</td>\n      <td>agua-dulce</td>\n      <td>MULTIPOLYGON (((-118.2546773959221 34.55830403...</td>\n      <td>L.A. County Neighborhood (Current)</td>\n      <td>agua-dulce</td>\n      <td>Agua Dulce</td>\n      <td>Agua Dulce L.A. County Neighborhood (Current)</td>\n      <td>31.462632</td>\n      <td>unincorporated-area</td>\n      <td>NaN</td>\n      <td>NaN</td>\n      <td>-118.317104</td>\n      <td>34.504927</td>\n      <td>POINT(34.504926999796837 -118.3171036690717)</td>\n    </tr>\n    <tr>\n      <th>4</th>\n      <td>L.A. County Neighborhoods (Current)</td>\n      <td>alhambra</td>\n      <td>MULTIPOLYGON (((-118.12174700000014 34.1050399...</td>\n      <td>L.A. County Neighborhood (Current)</td>\n      <td>alhambra</td>\n      <td>Alhambra</td>\n      <td>Alhambra L.A. County Neighborhood (Current)</td>\n      <td>7.623814</td>\n      <td>standalone-city</td>\n      <td>NaN</td>\n      <td>NaN</td>\n      <td>-118.136512</td>\n      <td>34.085539</td>\n      <td>POINT(34.085538999123571 -118.13651200000021)</td>\n    </tr>\n  </tbody>\n</table>\n</div>"
     },
     "execution_count": 4,
     "metadata": {},
     "output_type": "execute_result"
    }
   ],
   "source": [
    "#load in the map boundary data to get the polygons\n",
    "fname = 'la_neighborhoods.csv'\n",
    "df_map = pd.read_csv(fpath + fname)\n",
    "df_map.head()"
   ],
   "metadata": {
    "collapsed": false,
    "pycharm": {
     "name": "#%%\n"
    }
   }
  },
  {
   "cell_type": "code",
   "execution_count": 5,
   "outputs": [
    {
     "data": {
      "text/plain": "              slug                                           the_geom  \\\n0            acton  MULTIPOLYGON (((-118.20261747920541 34.5389897...   \n1  adams-normandie  MULTIPOLYGON (((-118.30900800000012 34.0374109...   \n2     agoura-hills  MULTIPOLYGON (((-118.76192500000009 34.1682029...   \n3       agua-dulce  MULTIPOLYGON (((-118.2546773959221 34.55830403...   \n4         alhambra  MULTIPOLYGON (((-118.12174700000014 34.1050399...   \n\n              name       sqmi                 type    latitude  longitude  \n0            Acton  39.339109  unincorporated-area -118.169810  34.497355  \n1  Adams-Normandie   0.805350    segment-of-a-city -118.300208  34.031461  \n2     Agoura Hills   8.146760      standalone-city -118.759885  34.146736  \n3       Agua Dulce  31.462632  unincorporated-area -118.317104  34.504927  \n4         Alhambra   7.623814      standalone-city -118.136512  34.085539  ",
      "text/html": "<div>\n<style scoped>\n    .dataframe tbody tr th:only-of-type {\n        vertical-align: middle;\n    }\n\n    .dataframe tbody tr th {\n        vertical-align: top;\n    }\n\n    .dataframe thead th {\n        text-align: right;\n    }\n</style>\n<table border=\"1\" class=\"dataframe\">\n  <thead>\n    <tr style=\"text-align: right;\">\n      <th></th>\n      <th>slug</th>\n      <th>the_geom</th>\n      <th>name</th>\n      <th>sqmi</th>\n      <th>type</th>\n      <th>latitude</th>\n      <th>longitude</th>\n    </tr>\n  </thead>\n  <tbody>\n    <tr>\n      <th>0</th>\n      <td>acton</td>\n      <td>MULTIPOLYGON (((-118.20261747920541 34.5389897...</td>\n      <td>Acton</td>\n      <td>39.339109</td>\n      <td>unincorporated-area</td>\n      <td>-118.169810</td>\n      <td>34.497355</td>\n    </tr>\n    <tr>\n      <th>1</th>\n      <td>adams-normandie</td>\n      <td>MULTIPOLYGON (((-118.30900800000012 34.0374109...</td>\n      <td>Adams-Normandie</td>\n      <td>0.805350</td>\n      <td>segment-of-a-city</td>\n      <td>-118.300208</td>\n      <td>34.031461</td>\n    </tr>\n    <tr>\n      <th>2</th>\n      <td>agoura-hills</td>\n      <td>MULTIPOLYGON (((-118.76192500000009 34.1682029...</td>\n      <td>Agoura Hills</td>\n      <td>8.146760</td>\n      <td>standalone-city</td>\n      <td>-118.759885</td>\n      <td>34.146736</td>\n    </tr>\n    <tr>\n      <th>3</th>\n      <td>agua-dulce</td>\n      <td>MULTIPOLYGON (((-118.2546773959221 34.55830403...</td>\n      <td>Agua Dulce</td>\n      <td>31.462632</td>\n      <td>unincorporated-area</td>\n      <td>-118.317104</td>\n      <td>34.504927</td>\n    </tr>\n    <tr>\n      <th>4</th>\n      <td>alhambra</td>\n      <td>MULTIPOLYGON (((-118.12174700000014 34.1050399...</td>\n      <td>Alhambra</td>\n      <td>7.623814</td>\n      <td>standalone-city</td>\n      <td>-118.136512</td>\n      <td>34.085539</td>\n    </tr>\n  </tbody>\n</table>\n</div>"
     },
     "execution_count": 5,
     "metadata": {},
     "output_type": "execute_result"
    }
   ],
   "source": [
    "#drop some columns from df_map\n",
    "df_map_clean = df_map.copy()\n",
    "\n",
    "cols_to_drop = ['set','kind', 'external_i','display_na','name_1', 'slug_1','location']\n",
    "df_map_clean = df_map_clean.drop(cols_to_drop,axis=1)\n",
    "df_map_clean.head()"
   ],
   "metadata": {
    "collapsed": false,
    "pycharm": {
     "name": "#%%\n"
    }
   }
  },
  {
   "cell_type": "code",
   "execution_count": 6,
   "outputs": [
    {
     "data": {
      "text/plain": "              slug                                           the_geom  \\\n0            acton  MULTIPOLYGON (((-118.20261747920541 34.5389897...   \n1  adams-normandie  MULTIPOLYGON (((-118.30900800000012 34.0374109...   \n2     agoura-hills  MULTIPOLYGON (((-118.76192500000009 34.1682029...   \n3       agua-dulce  MULTIPOLYGON (((-118.2546773959221 34.55830403...   \n4         alhambra  MULTIPOLYGON (((-118.12174700000014 34.1050399...   \n\n              name       sqmi                 type    latitude  longitude  \\\n0            Acton  39.339109  unincorporated-area -118.169810  34.497355   \n1  Adams-Normandie   0.805350    segment-of-a-city -118.300208  34.031461   \n2     Agoura Hills   8.146760      standalone-city -118.759885  34.146736   \n3       Agua Dulce  31.462632  unincorporated-area -118.317104  34.504927   \n4         Alhambra   7.623814      standalone-city -118.136512  34.085539   \n\n                                             polygon  \n0  POLYGON ((-118.2026174792054 34.53898972076929...  \n1  POLYGON ((-118.3090080000001 34.03741099912408...  \n2  POLYGON ((-118.7619250000001 34.16820299912263...  \n3  POLYGON ((-118.2546773959221 34.55830403375057...  \n4  POLYGON ((-118.1217470000001 34.10503999912332...  ",
      "text/html": "<div>\n<style scoped>\n    .dataframe tbody tr th:only-of-type {\n        vertical-align: middle;\n    }\n\n    .dataframe tbody tr th {\n        vertical-align: top;\n    }\n\n    .dataframe thead th {\n        text-align: right;\n    }\n</style>\n<table border=\"1\" class=\"dataframe\">\n  <thead>\n    <tr style=\"text-align: right;\">\n      <th></th>\n      <th>slug</th>\n      <th>the_geom</th>\n      <th>name</th>\n      <th>sqmi</th>\n      <th>type</th>\n      <th>latitude</th>\n      <th>longitude</th>\n      <th>polygon</th>\n    </tr>\n  </thead>\n  <tbody>\n    <tr>\n      <th>0</th>\n      <td>acton</td>\n      <td>MULTIPOLYGON (((-118.20261747920541 34.5389897...</td>\n      <td>Acton</td>\n      <td>39.339109</td>\n      <td>unincorporated-area</td>\n      <td>-118.169810</td>\n      <td>34.497355</td>\n      <td>POLYGON ((-118.2026174792054 34.53898972076929...</td>\n    </tr>\n    <tr>\n      <th>1</th>\n      <td>adams-normandie</td>\n      <td>MULTIPOLYGON (((-118.30900800000012 34.0374109...</td>\n      <td>Adams-Normandie</td>\n      <td>0.805350</td>\n      <td>segment-of-a-city</td>\n      <td>-118.300208</td>\n      <td>34.031461</td>\n      <td>POLYGON ((-118.3090080000001 34.03741099912408...</td>\n    </tr>\n    <tr>\n      <th>2</th>\n      <td>agoura-hills</td>\n      <td>MULTIPOLYGON (((-118.76192500000009 34.1682029...</td>\n      <td>Agoura Hills</td>\n      <td>8.146760</td>\n      <td>standalone-city</td>\n      <td>-118.759885</td>\n      <td>34.146736</td>\n      <td>POLYGON ((-118.7619250000001 34.16820299912263...</td>\n    </tr>\n    <tr>\n      <th>3</th>\n      <td>agua-dulce</td>\n      <td>MULTIPOLYGON (((-118.2546773959221 34.55830403...</td>\n      <td>Agua Dulce</td>\n      <td>31.462632</td>\n      <td>unincorporated-area</td>\n      <td>-118.317104</td>\n      <td>34.504927</td>\n      <td>POLYGON ((-118.2546773959221 34.55830403375057...</td>\n    </tr>\n    <tr>\n      <th>4</th>\n      <td>alhambra</td>\n      <td>MULTIPOLYGON (((-118.12174700000014 34.1050399...</td>\n      <td>Alhambra</td>\n      <td>7.623814</td>\n      <td>standalone-city</td>\n      <td>-118.136512</td>\n      <td>34.085539</td>\n      <td>POLYGON ((-118.1217470000001 34.10503999912332...</td>\n    </tr>\n  </tbody>\n</table>\n</div>"
     },
     "execution_count": 6,
     "metadata": {},
     "output_type": "execute_result"
    }
   ],
   "source": [
    "#create polygons using the map data\n",
    "from shapely.geometry import Point, Polygon, MultiPolygon\n",
    "\n",
    "def create_poly(val):\n",
    "    vals = val.replace('MULTIPOLYGON (((','').replace(')))','').split(',')\n",
    "    coords = []\n",
    "    for v in vals:\n",
    "        if ')' in v:\n",
    "            return float('NaN') #flag as NaN, need to use the multipoly fxn instead\n",
    "        new_val = v.strip().split(' ')\n",
    "        coords.append((float(new_val[0]), float(new_val[1])))\n",
    "\n",
    "    return Polygon(coords)\n",
    "\n",
    "# create polygons for simple shaped neighborhoods\n",
    "df_map_clean['polygon'] = df_map_clean['the_geom'].apply(create_poly)\n",
    "df_map_clean.head()"
   ],
   "metadata": {
    "collapsed": false,
    "pycharm": {
     "name": "#%%\n"
    }
   }
  },
  {
   "cell_type": "code",
   "execution_count": 7,
   "outputs": [
    {
     "data": {
      "text/plain": "              slug                                           the_geom  \\\n0            acton  MULTIPOLYGON (((-118.20261747920541 34.5389897...   \n1  adams-normandie  MULTIPOLYGON (((-118.30900800000012 34.0374109...   \n2     agoura-hills  MULTIPOLYGON (((-118.76192500000009 34.1682029...   \n3       agua-dulce  MULTIPOLYGON (((-118.2546773959221 34.55830403...   \n4         alhambra  MULTIPOLYGON (((-118.12174700000014 34.1050399...   \n\n              name       sqmi                 type    latitude  longitude  \\\n0            Acton  39.339109  unincorporated-area -118.169810  34.497355   \n1  Adams-Normandie   0.805350    segment-of-a-city -118.300208  34.031461   \n2     Agoura Hills   8.146760      standalone-city -118.759885  34.146736   \n3       Agua Dulce  31.462632  unincorporated-area -118.317104  34.504927   \n4         Alhambra   7.623814      standalone-city -118.136512  34.085539   \n\n                                             polygon  \n0  POLYGON ((-118.2026174792054 34.53898972076929...  \n1  POLYGON ((-118.3090080000001 34.03741099912408...  \n2  POLYGON ((-118.7619250000001 34.16820299912263...  \n3  POLYGON ((-118.2546773959221 34.55830403375057...  \n4  POLYGON ((-118.1217470000001 34.10503999912332...  ",
      "text/html": "<div>\n<style scoped>\n    .dataframe tbody tr th:only-of-type {\n        vertical-align: middle;\n    }\n\n    .dataframe tbody tr th {\n        vertical-align: top;\n    }\n\n    .dataframe thead th {\n        text-align: right;\n    }\n</style>\n<table border=\"1\" class=\"dataframe\">\n  <thead>\n    <tr style=\"text-align: right;\">\n      <th></th>\n      <th>slug</th>\n      <th>the_geom</th>\n      <th>name</th>\n      <th>sqmi</th>\n      <th>type</th>\n      <th>latitude</th>\n      <th>longitude</th>\n      <th>polygon</th>\n    </tr>\n  </thead>\n  <tbody>\n    <tr>\n      <th>0</th>\n      <td>acton</td>\n      <td>MULTIPOLYGON (((-118.20261747920541 34.5389897...</td>\n      <td>Acton</td>\n      <td>39.339109</td>\n      <td>unincorporated-area</td>\n      <td>-118.169810</td>\n      <td>34.497355</td>\n      <td>POLYGON ((-118.2026174792054 34.53898972076929...</td>\n    </tr>\n    <tr>\n      <th>1</th>\n      <td>adams-normandie</td>\n      <td>MULTIPOLYGON (((-118.30900800000012 34.0374109...</td>\n      <td>Adams-Normandie</td>\n      <td>0.805350</td>\n      <td>segment-of-a-city</td>\n      <td>-118.300208</td>\n      <td>34.031461</td>\n      <td>POLYGON ((-118.3090080000001 34.03741099912408...</td>\n    </tr>\n    <tr>\n      <th>2</th>\n      <td>agoura-hills</td>\n      <td>MULTIPOLYGON (((-118.76192500000009 34.1682029...</td>\n      <td>Agoura Hills</td>\n      <td>8.146760</td>\n      <td>standalone-city</td>\n      <td>-118.759885</td>\n      <td>34.146736</td>\n      <td>POLYGON ((-118.7619250000001 34.16820299912263...</td>\n    </tr>\n    <tr>\n      <th>3</th>\n      <td>agua-dulce</td>\n      <td>MULTIPOLYGON (((-118.2546773959221 34.55830403...</td>\n      <td>Agua Dulce</td>\n      <td>31.462632</td>\n      <td>unincorporated-area</td>\n      <td>-118.317104</td>\n      <td>34.504927</td>\n      <td>POLYGON ((-118.2546773959221 34.55830403375057...</td>\n    </tr>\n    <tr>\n      <th>4</th>\n      <td>alhambra</td>\n      <td>MULTIPOLYGON (((-118.12174700000014 34.1050399...</td>\n      <td>Alhambra</td>\n      <td>7.623814</td>\n      <td>standalone-city</td>\n      <td>-118.136512</td>\n      <td>34.085539</td>\n      <td>POLYGON ((-118.1217470000001 34.10503999912332...</td>\n    </tr>\n  </tbody>\n</table>\n</div>"
     },
     "execution_count": 7,
     "metadata": {},
     "output_type": "execute_result"
    }
   ],
   "source": [
    "# create a different function that will deal with the multipolygons:\n",
    "import re\n",
    "\n",
    "def create_multipoly(val):\n",
    "    split_val = val.replace('MULTIPOLYGON (((','').split(')')\n",
    "    all_vals = [split_val[0]] #first is already cleaned\n",
    "    for sv in split_val:\n",
    "        if sv:\n",
    "            found = re.findall('\\(?\\((.*)',sv)\n",
    "            if found:\n",
    "                all_vals.append(found[0])\n",
    "    mult_polys = []\n",
    "\n",
    "    #put the largest string in the first position:\n",
    "    s_lengths = [len(s) for s in all_vals]\n",
    "    max_s = max(s_lengths)\n",
    "    for i, s in enumerate(all_vals):\n",
    "        if len(s) == max_s:\n",
    "            largest = [all_vals.pop(i)]\n",
    "    all_vals = largest + all_vals\n",
    "\n",
    "    #now create the polys - some are supposed to have holes\n",
    "    for i, s in enumerate(all_vals):\n",
    "        coords = []\n",
    "        vals = s.split(',')\n",
    "        for v in vals:\n",
    "            new_val = v.strip().split(' ')\n",
    "            coords.append((float(new_val[0]), float(new_val[1])))\n",
    "        if i == 0:\n",
    "            first_poly = Polygon(coords)\n",
    "        mult_polys.append(Polygon(coords))\n",
    "    #check to see if any of the polys are within the first poly:\n",
    "    hole_approach = 0\n",
    "    for i in range(1,len(mult_polys)):\n",
    "        if mult_polys[i].within(first_poly):\n",
    "            hole_approach = 1\n",
    "\n",
    "    if not hole_approach:\n",
    "        return MultiPolygon(mult_polys)\n",
    "    else:\n",
    "        mult_coords = []\n",
    "        hole_coords = []\n",
    "        for i, s in enumerate(all_vals): #reorder_vals\n",
    "            coords = []\n",
    "            vals = s.split(',')\n",
    "            for v in vals:\n",
    "                new_val = v.strip().split(' ')\n",
    "                coords.append((float(new_val[0]), float(new_val[1])))\n",
    "            if i == 0:\n",
    "                mult_coords.append(tuple(coords))\n",
    "            else:\n",
    "                hole_coords.append(tuple(coords))\n",
    "        mult_coords.append(hole_coords)\n",
    "        return MultiPolygon([tuple(mult_coords)])\n",
    "\n",
    "#create multipolygons for locations flagged with NaNs\n",
    "df_map_clean.loc[df_map_clean['polygon'].isna(),'polygon'] = df_map_clean.loc[df_map_clean['polygon'].isna(),'the_geom'].apply(create_multipoly)\n",
    "df_map_clean.head()"
   ],
   "metadata": {
    "collapsed": false,
    "pycharm": {
     "name": "#%%\n"
    }
   }
  },
  {
   "cell_type": "code",
   "execution_count": 8,
   "outputs": [],
   "source": [
    "#need to create a special function to handle Industry neighborhood:\n",
    "def create_multipoly_Industry(val):\n",
    "    split_val = val.replace('MULTIPOLYGON (((','').split(')')\n",
    "    all_vals = [split_val[0]] #first is already cleaned\n",
    "    for sv in split_val:\n",
    "        if sv:\n",
    "            found = re.findall('\\(?\\((.*)',sv)\n",
    "            if found:\n",
    "                all_vals.append(found[0])\n",
    "    mult_polys = []\n",
    "\n",
    "    #put the largest string in the first position:\n",
    "    s_lengths = [len(s) for s in all_vals]\n",
    "    max_s = max(s_lengths)\n",
    "    for i, s in enumerate(all_vals):\n",
    "        if len(s) == max_s:\n",
    "            largest = [all_vals.pop(i)]\n",
    "    all_vals = largest + all_vals\n",
    "\n",
    "    #for Industry, use only the first poly\n",
    "    coords = []\n",
    "    vals = all_vals[0].split(',')\n",
    "    for v in vals:\n",
    "        new_val = v.strip().split(' ')\n",
    "        coords.append((float(new_val[0]), float(new_val[1])))\n",
    "    return Polygon(coords)"
   ],
   "metadata": {
    "collapsed": false,
    "pycharm": {
     "name": "#%%\n"
    }
   }
  },
  {
   "cell_type": "code",
   "execution_count": 9,
   "outputs": [],
   "source": [
    "#Industry is in location 120, replace with new poly\n",
    "df_map_clean.loc[120,'polygon'] = create_multipoly_Industry(df_map_clean['the_geom'][120])"
   ],
   "metadata": {
    "collapsed": false,
    "pycharm": {
     "name": "#%%\n"
    }
   }
  },
  {
   "cell_type": "code",
   "execution_count": 10,
   "outputs": [],
   "source": [
    "#Do the same thing for Palmdale (polygon is not 100% correct, but hole area is without restaurants)\n",
    "df_map_clean.loc[174,'polygon'] = create_multipoly_Industry(df_map_clean['the_geom'][174])"
   ],
   "metadata": {
    "collapsed": false,
    "pycharm": {
     "name": "#%%\n"
    }
   }
  },
  {
   "cell_type": "code",
   "execution_count": null,
   "outputs": [],
   "source": [
    "#save the map data\n",
    "with open(fpath + 'df_map.pkl','wb') as f:\n",
    "    pickle.dump(df_map_clean, f)"
   ],
   "metadata": {
    "collapsed": false,
    "pycharm": {
     "name": "#%%\n"
    }
   }
  }
 ],
 "metadata": {
  "kernelspec": {
   "display_name": "Python 3",
   "language": "python",
   "name": "python3"
  },
  "language_info": {
   "codemirror_mode": {
    "name": "ipython",
    "version": 2
   },
   "file_extension": ".py",
   "mimetype": "text/x-python",
   "name": "python",
   "nbconvert_exporter": "python",
   "pygments_lexer": "ipython2",
   "version": "2.7.6"
  }
 },
 "nbformat": 4,
 "nbformat_minor": 0
}